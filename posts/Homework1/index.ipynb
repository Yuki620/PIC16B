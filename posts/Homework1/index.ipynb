{
 "cells": [
  {
   "cell_type": "raw",
   "id": "81954e26",
   "metadata": {},
   "source": [
    "---\n",
    "title: \"Global Climate Over Time: Temperature Trends by Country\"\n",
    "author: \"Yuki Yu\"\n",
    "date: \"2024-01-18\"\n",
    "categories: [Data, Python]\n",
    "---"
   ]
  },
  {
   "cell_type": "markdown",
   "id": "6788e8bc",
   "metadata": {},
   "source": [
    "## Global Climate Over Time: Temperature Trends by Country"
   ]
  },
  {
   "cell_type": "code",
   "execution_count": 1,
   "id": "d1f985cc",
   "metadata": {},
   "outputs": [],
   "source": [
    "import pandas as pd\n",
    "import seaborn as sns\n",
    "import sqlite3\n",
    "import numpy as np"
   ]
  },
  {
   "cell_type": "markdown",
   "id": "90a9e939",
   "metadata": {},
   "source": [
    "## 1. Creating a Database"
   ]
  },
  {
   "cell_type": "markdown",
   "id": "1c17673f",
   "metadata": {},
   "source": [
    "First, we will create a database called `temps.db` as shown below, and then read in the csv file as an iterator that gives a dataframe with up to 100,000 rows each iteration for more efficient processing time and memory storage. "
   ]
  },
  {
   "cell_type": "code",
   "execution_count": 2,
   "id": "5048e51e",
   "metadata": {},
   "outputs": [],
   "source": [
    "# Create a database in current directory called temps.db\n",
    "conn = sqlite3.connect(\"temps.db\")"
   ]
  },
  {
   "cell_type": "code",
   "execution_count": 3,
   "id": "7d8fd2f5",
   "metadata": {},
   "outputs": [],
   "source": [
    "# Read in the csv file as an iterator with up to 100,000 observations each iteration\n",
    "df_iter = pd.read_csv(\"temps.csv\", chunksize=100000)"
   ]
  },
  {
   "cell_type": "markdown",
   "id": "46176e67",
   "metadata": {},
   "source": [
    "### Preparing the `temperatures` table\n",
    "Now we will inspect the dataframe."
   ]
  },
  {
   "cell_type": "code",
   "execution_count": 4,
   "id": "d7a5027a",
   "metadata": {},
   "outputs": [],
   "source": [
    "df = df_iter.__next__()"
   ]
  },
  {
   "cell_type": "code",
   "execution_count": 5,
   "id": "055a211a",
   "metadata": {
    "scrolled": false
   },
   "outputs": [
    {
     "data": {
      "text/html": [
       "<div>\n",
       "<style scoped>\n",
       "    .dataframe tbody tr th:only-of-type {\n",
       "        vertical-align: middle;\n",
       "    }\n",
       "\n",
       "    .dataframe tbody tr th {\n",
       "        vertical-align: top;\n",
       "    }\n",
       "\n",
       "    .dataframe thead th {\n",
       "        text-align: right;\n",
       "    }\n",
       "</style>\n",
       "<table border=\"1\" class=\"dataframe\">\n",
       "  <thead>\n",
       "    <tr style=\"text-align: right;\">\n",
       "      <th></th>\n",
       "      <th>ID</th>\n",
       "      <th>Year</th>\n",
       "      <th>VALUE1</th>\n",
       "      <th>VALUE2</th>\n",
       "      <th>VALUE3</th>\n",
       "      <th>VALUE4</th>\n",
       "      <th>VALUE5</th>\n",
       "      <th>VALUE6</th>\n",
       "      <th>VALUE7</th>\n",
       "      <th>VALUE8</th>\n",
       "      <th>VALUE9</th>\n",
       "      <th>VALUE10</th>\n",
       "      <th>VALUE11</th>\n",
       "      <th>VALUE12</th>\n",
       "    </tr>\n",
       "  </thead>\n",
       "  <tbody>\n",
       "    <tr>\n",
       "      <th>0</th>\n",
       "      <td>ACW00011604</td>\n",
       "      <td>1961</td>\n",
       "      <td>-89.0</td>\n",
       "      <td>236.0</td>\n",
       "      <td>472.0</td>\n",
       "      <td>773.0</td>\n",
       "      <td>1128.0</td>\n",
       "      <td>1599.0</td>\n",
       "      <td>1570.0</td>\n",
       "      <td>1481.0</td>\n",
       "      <td>1413.0</td>\n",
       "      <td>1174.0</td>\n",
       "      <td>510.0</td>\n",
       "      <td>-39.0</td>\n",
       "    </tr>\n",
       "    <tr>\n",
       "      <th>1</th>\n",
       "      <td>ACW00011604</td>\n",
       "      <td>1962</td>\n",
       "      <td>113.0</td>\n",
       "      <td>85.0</td>\n",
       "      <td>-154.0</td>\n",
       "      <td>635.0</td>\n",
       "      <td>908.0</td>\n",
       "      <td>1381.0</td>\n",
       "      <td>1510.0</td>\n",
       "      <td>1393.0</td>\n",
       "      <td>1163.0</td>\n",
       "      <td>994.0</td>\n",
       "      <td>323.0</td>\n",
       "      <td>-126.0</td>\n",
       "    </tr>\n",
       "    <tr>\n",
       "      <th>2</th>\n",
       "      <td>ACW00011604</td>\n",
       "      <td>1963</td>\n",
       "      <td>-713.0</td>\n",
       "      <td>-553.0</td>\n",
       "      <td>-99.0</td>\n",
       "      <td>541.0</td>\n",
       "      <td>1224.0</td>\n",
       "      <td>1627.0</td>\n",
       "      <td>1620.0</td>\n",
       "      <td>1596.0</td>\n",
       "      <td>1332.0</td>\n",
       "      <td>940.0</td>\n",
       "      <td>566.0</td>\n",
       "      <td>-108.0</td>\n",
       "    </tr>\n",
       "    <tr>\n",
       "      <th>3</th>\n",
       "      <td>ACW00011604</td>\n",
       "      <td>1964</td>\n",
       "      <td>62.0</td>\n",
       "      <td>-85.0</td>\n",
       "      <td>55.0</td>\n",
       "      <td>738.0</td>\n",
       "      <td>1219.0</td>\n",
       "      <td>1442.0</td>\n",
       "      <td>1506.0</td>\n",
       "      <td>1557.0</td>\n",
       "      <td>1221.0</td>\n",
       "      <td>788.0</td>\n",
       "      <td>546.0</td>\n",
       "      <td>112.0</td>\n",
       "    </tr>\n",
       "    <tr>\n",
       "      <th>4</th>\n",
       "      <td>ACW00011604</td>\n",
       "      <td>1965</td>\n",
       "      <td>44.0</td>\n",
       "      <td>-105.0</td>\n",
       "      <td>38.0</td>\n",
       "      <td>590.0</td>\n",
       "      <td>987.0</td>\n",
       "      <td>1500.0</td>\n",
       "      <td>1487.0</td>\n",
       "      <td>1477.0</td>\n",
       "      <td>1377.0</td>\n",
       "      <td>974.0</td>\n",
       "      <td>31.0</td>\n",
       "      <td>-178.0</td>\n",
       "    </tr>\n",
       "  </tbody>\n",
       "</table>\n",
       "</div>"
      ],
      "text/plain": [
       "            ID  Year  VALUE1  VALUE2  VALUE3  VALUE4  VALUE5  VALUE6  VALUE7  \\\n",
       "0  ACW00011604  1961   -89.0   236.0   472.0   773.0  1128.0  1599.0  1570.0   \n",
       "1  ACW00011604  1962   113.0    85.0  -154.0   635.0   908.0  1381.0  1510.0   \n",
       "2  ACW00011604  1963  -713.0  -553.0   -99.0   541.0  1224.0  1627.0  1620.0   \n",
       "3  ACW00011604  1964    62.0   -85.0    55.0   738.0  1219.0  1442.0  1506.0   \n",
       "4  ACW00011604  1965    44.0  -105.0    38.0   590.0   987.0  1500.0  1487.0   \n",
       "\n",
       "   VALUE8  VALUE9  VALUE10  VALUE11  VALUE12  \n",
       "0  1481.0  1413.0   1174.0    510.0    -39.0  \n",
       "1  1393.0  1163.0    994.0    323.0   -126.0  \n",
       "2  1596.0  1332.0    940.0    566.0   -108.0  \n",
       "3  1557.0  1221.0    788.0    546.0    112.0  \n",
       "4  1477.0  1377.0    974.0     31.0   -178.0  "
      ]
     },
     "execution_count": 5,
     "metadata": {},
     "output_type": "execute_result"
    }
   ],
   "source": [
    "df.head()"
   ]
  },
  {
   "cell_type": "markdown",
   "id": "ae60e10c",
   "metadata": {},
   "source": [
    "The first table we want to put into the database is `temperatures`, so we will need to restructure the dataframe so that we get a cleaner look. Therefore, we will write a function as shown below to prepare our table."
   ]
  },
  {
   "cell_type": "code",
   "execution_count": 6,
   "id": "522358c3",
   "metadata": {},
   "outputs": [],
   "source": [
    "def prepare_df(df):\n",
    "    \"\"\"\n",
    "    Transforms a DataFrame of temperature data into a long-form DataFrame with standardized column names.\n",
    "\n",
    "    Parameters:\n",
    "    - df (DataFrame): A pandas DataFrame with 'ID', 'Year', and monthly temperature columns.\n",
    "\n",
    "    Returns:\n",
    "    - DataFrame: The transformed DataFrame with columns 'ID', 'Year', 'Month', and 'Temp',\n",
    "      where 'Month' is a numerical month and 'Temp' is the rescaled temperature value.\n",
    "    \"\"\"\n",
    "    # Stack the table with ID and Year as the index\n",
    "    df = df.set_index(keys=['ID', 'Year'])   \n",
    "    df = df.stack()\n",
    "    df = df.reset_index()\n",
    "    # Rename the columns with clearer labels\n",
    "    df = df.rename(columns={\"level_2\": \"Month\", 0: \"Temp\"}) \n",
    "     # Extract just the numerical value as the month\n",
    "    df[\"Month\"] = df[\"Month\"].str[5:].astype(int)\n",
    "    df[\"Temp\"] = df[\"Temp\"] / 100 \n",
    "    \n",
    "    return(df)"
   ]
  },
  {
   "cell_type": "markdown",
   "id": "afe51f65",
   "metadata": {},
   "source": [
    "### Preparing the `countries` table\n",
    "We acquire a data frame that gives the full country name corresponding to the FIPS (Federal Information Processing System) code. The FIPS code is an internationally standardized abbreviation for a country:"
   ]
  },
  {
   "cell_type": "markdown",
   "id": "e5b04696",
   "metadata": {},
   "source": [
    "As shown below, we now have the `temperatures` table we want and are ready to add it to the database!"
   ]
  },
  {
   "cell_type": "code",
   "execution_count": 7,
   "id": "74673c2a",
   "metadata": {
    "scrolled": true
   },
   "outputs": [
    {
     "data": {
      "text/html": [
       "<div>\n",
       "<style scoped>\n",
       "    .dataframe tbody tr th:only-of-type {\n",
       "        vertical-align: middle;\n",
       "    }\n",
       "\n",
       "    .dataframe tbody tr th {\n",
       "        vertical-align: top;\n",
       "    }\n",
       "\n",
       "    .dataframe thead th {\n",
       "        text-align: right;\n",
       "    }\n",
       "</style>\n",
       "<table border=\"1\" class=\"dataframe\">\n",
       "  <thead>\n",
       "    <tr style=\"text-align: right;\">\n",
       "      <th></th>\n",
       "      <th>FIPS 10-4</th>\n",
       "      <th>ISO 3166</th>\n",
       "      <th>Name</th>\n",
       "    </tr>\n",
       "  </thead>\n",
       "  <tbody>\n",
       "    <tr>\n",
       "      <th>0</th>\n",
       "      <td>AF</td>\n",
       "      <td>AF</td>\n",
       "      <td>Afghanistan</td>\n",
       "    </tr>\n",
       "    <tr>\n",
       "      <th>1</th>\n",
       "      <td>AX</td>\n",
       "      <td>-</td>\n",
       "      <td>Akrotiri</td>\n",
       "    </tr>\n",
       "    <tr>\n",
       "      <th>2</th>\n",
       "      <td>AL</td>\n",
       "      <td>AL</td>\n",
       "      <td>Albania</td>\n",
       "    </tr>\n",
       "    <tr>\n",
       "      <th>3</th>\n",
       "      <td>AG</td>\n",
       "      <td>DZ</td>\n",
       "      <td>Algeria</td>\n",
       "    </tr>\n",
       "    <tr>\n",
       "      <th>4</th>\n",
       "      <td>AQ</td>\n",
       "      <td>AS</td>\n",
       "      <td>American Samoa</td>\n",
       "    </tr>\n",
       "  </tbody>\n",
       "</table>\n",
       "</div>"
      ],
      "text/plain": [
       "  FIPS 10-4 ISO 3166            Name\n",
       "0        AF       AF     Afghanistan\n",
       "1        AX        -        Akrotiri\n",
       "2        AL       AL         Albania\n",
       "3        AG       DZ         Algeria\n",
       "4        AQ       AS  American Samoa"
      ]
     },
     "execution_count": 7,
     "metadata": {},
     "output_type": "execute_result"
    }
   ],
   "source": [
    "countries_url = \"https://raw.githubusercontent.com/mysociety/gaze/master/data/fips-10-4-to-iso-country-codes.csv\"\n",
    "countries = pd.read_csv(countries_url)\n",
    "countries.head(5)"
   ]
  },
  {
   "cell_type": "markdown",
   "id": "56f7f8cc",
   "metadata": {},
   "source": [
    "The first 2 letters of `ID` are the same as the letters given in `FIPS 10-4`! "
   ]
  },
  {
   "cell_type": "markdown",
   "id": "cf16c463",
   "metadata": {},
   "source": [
    "### Adding the `temperatures` and `countries` tables\n",
    "The code below adds the `temperatures` and `countries` tables to the database."
   ]
  },
  {
   "cell_type": "code",
   "execution_count": 8,
   "id": "e6a76547",
   "metadata": {},
   "outputs": [],
   "source": [
    "# run this again to make sure no chunks are skipped over\n",
    "df_iter = pd.read_csv(\"temps.csv\", chunksize=100000) \n",
    "for i, df in enumerate(df_iter):\n",
    "    df = prepare_df(df)\n",
    "    # add \"temperatures\" table to the database\n",
    "    df.to_sql(\"temperatures\", conn, if_exists=\"replace\" if i==0 else \"append\", \n",
    "              index=False)\n",
    "    # add \"countries\" table to the database\n",
    "    countries.to_sql(\"countries\", conn, if_exists=\"replace\" if i==0 else \"append\", \n",
    "                     index=False)"
   ]
  },
  {
   "cell_type": "markdown",
   "id": "50c88263",
   "metadata": {},
   "source": [
    "### Adding the `stations` table\n",
    "Now we want to add in the `stations` table. Since it is not a large csv file, we can just read it in directly."
   ]
  },
  {
   "cell_type": "code",
   "execution_count": 9,
   "id": "eb4f8164",
   "metadata": {
    "scrolled": true
   },
   "outputs": [
    {
     "data": {
      "text/plain": [
       "27585"
      ]
     },
     "execution_count": 9,
     "metadata": {},
     "output_type": "execute_result"
    }
   ],
   "source": [
    "stations = pd.read_csv(\"station-metadata.csv\")\n",
    "stations.to_sql(\"stations\", conn, if_exists=\"replace\", index=False)"
   ]
  },
  {
   "cell_type": "markdown",
   "id": "39a05433",
   "metadata": {},
   "source": [
    "### Verification\n",
    "With the code below, we can verify that all 3 tables were successfully added into the database."
   ]
  },
  {
   "cell_type": "code",
   "execution_count": 10,
   "id": "a9b4cce3",
   "metadata": {},
   "outputs": [
    {
     "name": "stdout",
     "output_type": "stream",
     "text": [
      "[('temperatures',), ('countries',), ('stations',)]\n"
     ]
    }
   ],
   "source": [
    "cursor = conn.cursor() # we can only execute sql commands through cursor\n",
    "cursor.execute(\"SELECT name FROM sqlite_master WHERE type='table'\")\n",
    "print(cursor.fetchall())"
   ]
  },
  {
   "cell_type": "markdown",
   "id": "96115617",
   "metadata": {},
   "source": [
    "### Close the database connection"
   ]
  },
  {
   "cell_type": "code",
   "execution_count": 11,
   "id": "578cc345",
   "metadata": {},
   "outputs": [],
   "source": [
    "conn.close()"
   ]
  },
  {
   "cell_type": "markdown",
   "id": "9c56191b",
   "metadata": {},
   "source": [
    "## 2. Write a Query Function"
   ]
  },
  {
   "cell_type": "markdown",
   "id": "e01b6948",
   "metadata": {},
   "source": [
    "`query_climate_database()`accepts five arguments:\n",
    "\n",
    " - `db_file`, the file name for the database\n",
    " - `country`, a string giving the name of a country for which data should be returned.\n",
    " - `year_begin` and `year_end`, two integers giving the earliest and latest years for which should be returned.\n",
    " - `month`, an integer giving the month of the year for which should be returned. \n",
    " \n",
    "The return value of `query_climate_database()` is a Pandas dataframe of temperature readings for the specified country, in the specified date range, in the specified month of the year. This dataframe should have the following columns, in this order:\n",
    "\n",
    " - `NAME`: The station name.\n",
    " - `LATITUDE`: The latitude of the station.\n",
    " - `LONGITUDE`: The longitude of the station.\n",
    " - `Country`: The name of the country in which the station is located.\n",
    " - `Year`: The year in which the reading was taken.\n",
    " - `Month`: The month in which the reading was taken.\n",
    " - `Temp`: The average temperature at the specified station during the specified year and month."
   ]
  },
  {
   "cell_type": "markdown",
   "id": "ec110d03",
   "metadata": {},
   "source": [
    "### Import `query_climate_database()`"
   ]
  },
  {
   "cell_type": "code",
   "execution_count": 12,
   "id": "c9298f7c",
   "metadata": {},
   "outputs": [
    {
     "name": "stdout",
     "output_type": "stream",
     "text": [
      "def query_climate_database(db_file, country, year_begin, year_end, month):\n",
      "    \"\"\"\n",
      "    Retrieves temperature readings from the climate database for a specified country and date range.\n",
      "\n",
      "    Parameters:\n",
      "    - db_file (str): Path to the SQLite database file.\n",
      "    - country (str): Country name to filter the temperature readings.\n",
      "    - year_begin (int): Starting year for the range of readings.\n",
      "    - year_end (int): Ending year for the range of readings.\n",
      "    - month (int): Month of the year for which the readings are queried.\n",
      "\n",
      "    Returns:\n",
      "    - DataFrame: A pandas DataFrame containing temperature readings, with columns for station \n",
      "      name, latitude, longitude, country, year, month, and average temperature.\n",
      "    \"\"\"\n",
      "    with sqlite3.connect(db_file) as conn:\n",
      "        # conn is automatically closed when this block ends\n",
      "\n",
      "        # NAME, LATITUDE, LONGITUDE, Country, Year, Month, Temp\n",
      "        cmd = \\\n",
      "        f\"\"\"\n",
      "        SELECT S.NAME, S.LATITUDE, S.LONGITUDE, C.Name as Country, T.Year, T.Month, T.Temp \n",
      "        FROM temperatures T\n",
      "        LEFT JOIN stations S ON T.ID = S.ID\n",
      "        LEFT JOIN countries C ON SUBSTR(T.ID, 1, 2) = C.`FIPS 10-4`\n",
      "        WHERE T.Month = {month} \n",
      "            AND T.Year >= {year_begin} \n",
      "            AND T.Year <= {year_end}\n",
      "            AND C.Name = '{country}'\n",
      "        \"\"\"\n",
      "        df = pd.read_sql_query(cmd, conn)\n",
      "        df = df.drop_duplicates()\n",
      "    return df\n",
      "\n"
     ]
    }
   ],
   "source": [
    "from climate_database import query_climate_database\n",
    "import inspect\n",
    "\n",
    "# Inspect the function\n",
    "print(inspect.getsource(query_climate_database))"
   ]
  },
  {
   "cell_type": "markdown",
   "id": "8795b4a6",
   "metadata": {},
   "source": [
    "### Verification\n",
    "As shown below, `query_climate_database()` works as intended."
   ]
  },
  {
   "cell_type": "code",
   "execution_count": 13,
   "id": "e514b46c",
   "metadata": {},
   "outputs": [
    {
     "data": {
      "text/html": [
       "<div>\n",
       "<style scoped>\n",
       "    .dataframe tbody tr th:only-of-type {\n",
       "        vertical-align: middle;\n",
       "    }\n",
       "\n",
       "    .dataframe tbody tr th {\n",
       "        vertical-align: top;\n",
       "    }\n",
       "\n",
       "    .dataframe thead th {\n",
       "        text-align: right;\n",
       "    }\n",
       "</style>\n",
       "<table border=\"1\" class=\"dataframe\">\n",
       "  <thead>\n",
       "    <tr style=\"text-align: right;\">\n",
       "      <th></th>\n",
       "      <th>NAME</th>\n",
       "      <th>LATITUDE</th>\n",
       "      <th>LONGITUDE</th>\n",
       "      <th>Country</th>\n",
       "      <th>Year</th>\n",
       "      <th>Month</th>\n",
       "      <th>Temp</th>\n",
       "    </tr>\n",
       "  </thead>\n",
       "  <tbody>\n",
       "    <tr>\n",
       "      <th>0</th>\n",
       "      <td>PBO_ANANTAPUR</td>\n",
       "      <td>14.583</td>\n",
       "      <td>77.633</td>\n",
       "      <td>India</td>\n",
       "      <td>1980</td>\n",
       "      <td>1</td>\n",
       "      <td>23.48</td>\n",
       "    </tr>\n",
       "    <tr>\n",
       "      <th>1</th>\n",
       "      <td>PBO_ANANTAPUR</td>\n",
       "      <td>14.583</td>\n",
       "      <td>77.633</td>\n",
       "      <td>India</td>\n",
       "      <td>1981</td>\n",
       "      <td>1</td>\n",
       "      <td>24.57</td>\n",
       "    </tr>\n",
       "    <tr>\n",
       "      <th>2</th>\n",
       "      <td>PBO_ANANTAPUR</td>\n",
       "      <td>14.583</td>\n",
       "      <td>77.633</td>\n",
       "      <td>India</td>\n",
       "      <td>1982</td>\n",
       "      <td>1</td>\n",
       "      <td>24.19</td>\n",
       "    </tr>\n",
       "    <tr>\n",
       "      <th>3</th>\n",
       "      <td>PBO_ANANTAPUR</td>\n",
       "      <td>14.583</td>\n",
       "      <td>77.633</td>\n",
       "      <td>India</td>\n",
       "      <td>1983</td>\n",
       "      <td>1</td>\n",
       "      <td>23.51</td>\n",
       "    </tr>\n",
       "    <tr>\n",
       "      <th>4</th>\n",
       "      <td>PBO_ANANTAPUR</td>\n",
       "      <td>14.583</td>\n",
       "      <td>77.633</td>\n",
       "      <td>India</td>\n",
       "      <td>1984</td>\n",
       "      <td>1</td>\n",
       "      <td>24.81</td>\n",
       "    </tr>\n",
       "    <tr>\n",
       "      <th>...</th>\n",
       "      <td>...</td>\n",
       "      <td>...</td>\n",
       "      <td>...</td>\n",
       "      <td>...</td>\n",
       "      <td>...</td>\n",
       "      <td>...</td>\n",
       "      <td>...</td>\n",
       "    </tr>\n",
       "    <tr>\n",
       "      <th>3147</th>\n",
       "      <td>DARJEELING</td>\n",
       "      <td>27.050</td>\n",
       "      <td>88.270</td>\n",
       "      <td>India</td>\n",
       "      <td>1983</td>\n",
       "      <td>1</td>\n",
       "      <td>5.10</td>\n",
       "    </tr>\n",
       "    <tr>\n",
       "      <th>3148</th>\n",
       "      <td>DARJEELING</td>\n",
       "      <td>27.050</td>\n",
       "      <td>88.270</td>\n",
       "      <td>India</td>\n",
       "      <td>1986</td>\n",
       "      <td>1</td>\n",
       "      <td>6.90</td>\n",
       "    </tr>\n",
       "    <tr>\n",
       "      <th>3149</th>\n",
       "      <td>DARJEELING</td>\n",
       "      <td>27.050</td>\n",
       "      <td>88.270</td>\n",
       "      <td>India</td>\n",
       "      <td>1994</td>\n",
       "      <td>1</td>\n",
       "      <td>8.10</td>\n",
       "    </tr>\n",
       "    <tr>\n",
       "      <th>3150</th>\n",
       "      <td>DARJEELING</td>\n",
       "      <td>27.050</td>\n",
       "      <td>88.270</td>\n",
       "      <td>India</td>\n",
       "      <td>1995</td>\n",
       "      <td>1</td>\n",
       "      <td>5.60</td>\n",
       "    </tr>\n",
       "    <tr>\n",
       "      <th>3151</th>\n",
       "      <td>DARJEELING</td>\n",
       "      <td>27.050</td>\n",
       "      <td>88.270</td>\n",
       "      <td>India</td>\n",
       "      <td>1997</td>\n",
       "      <td>1</td>\n",
       "      <td>5.70</td>\n",
       "    </tr>\n",
       "  </tbody>\n",
       "</table>\n",
       "<p>3152 rows × 7 columns</p>\n",
       "</div>"
      ],
      "text/plain": [
       "               NAME  LATITUDE  LONGITUDE Country  Year  Month   Temp\n",
       "0     PBO_ANANTAPUR    14.583     77.633   India  1980      1  23.48\n",
       "1     PBO_ANANTAPUR    14.583     77.633   India  1981      1  24.57\n",
       "2     PBO_ANANTAPUR    14.583     77.633   India  1982      1  24.19\n",
       "3     PBO_ANANTAPUR    14.583     77.633   India  1983      1  23.51\n",
       "4     PBO_ANANTAPUR    14.583     77.633   India  1984      1  24.81\n",
       "...             ...       ...        ...     ...   ...    ...    ...\n",
       "3147     DARJEELING    27.050     88.270   India  1983      1   5.10\n",
       "3148     DARJEELING    27.050     88.270   India  1986      1   6.90\n",
       "3149     DARJEELING    27.050     88.270   India  1994      1   8.10\n",
       "3150     DARJEELING    27.050     88.270   India  1995      1   5.60\n",
       "3151     DARJEELING    27.050     88.270   India  1997      1   5.70\n",
       "\n",
       "[3152 rows x 7 columns]"
      ]
     },
     "execution_count": 13,
     "metadata": {},
     "output_type": "execute_result"
    }
   ],
   "source": [
    "query_climate_database(db_file = \"temps.db\",\n",
    "                       country = \"India\", \n",
    "                       year_begin = 1980, \n",
    "                       year_end = 2020,\n",
    "                       month = 1)"
   ]
  },
  {
   "cell_type": "markdown",
   "id": "77326e94",
   "metadata": {},
   "source": [
    "## 3. Write a Geographic Scatter Function for Yearly Temperature Increases"
   ]
  },
  {
   "cell_type": "markdown",
   "id": "d05f4247",
   "metadata": {},
   "source": [
    "### Import the necessary libraries for plotting"
   ]
  },
  {
   "cell_type": "code",
   "execution_count": 14,
   "id": "fb684866",
   "metadata": {},
   "outputs": [],
   "source": [
    "from plotly import express as px\n",
    "from plotly.io import write_html\n",
    "import plotly.io as pio\n",
    "from plotly.subplots import make_subplots\n",
    "from sklearn.linear_model import LinearRegression\n",
    "import calendar\n",
    "pio.renderers.default='iframe'"
   ]
  },
  {
   "cell_type": "markdown",
   "id": "5327ccc4",
   "metadata": {},
   "source": [
    "### Write a function to estimate the change in temperature\n",
    "Let's compute a simple estimate of the year-over-year average change in temperature in each month at each station. For this, we'll use linear regression. We'll use the statistical fact that, when regressing `Temp` against `Year`, the coefficient of `Year` will be an estimate of the yearly change in `Temp`."
   ]
  },
  {
   "cell_type": "code",
   "execution_count": 15,
   "id": "8ba948f3",
   "metadata": {},
   "outputs": [],
   "source": [
    "def coef(data_group):\n",
    "    \"\"\"\n",
    "    Calculates the coefficient from a linear regression of yearly temperature data.\n",
    "\n",
    "    This function performs a linear regression on the 'Year' column of the provided DataFrame\n",
    "    against the 'Temp' column to estimate the year-over-year change in temperature.\n",
    "\n",
    "    Parameters:\n",
    "    - data_group (DataFrame): A pandas DataFrame with 'Year' and 'Temp' columns.\n",
    "\n",
    "    Returns:\n",
    "    - float: The coefficient representing the annual change in temperature.\n",
    "    \"\"\"\n",
    "    x = data_group[[\"Year\"]] # 2 brackets because X should be a df\n",
    "    y = data_group[\"Temp\"] # 1 bracket because y should be a series\n",
    "    LR = LinearRegression()\n",
    "    LR.fit(x, y)\n",
    "    return LR.coef_[0]"
   ]
  },
  {
   "cell_type": "markdown",
   "id": "90abb029",
   "metadata": {},
   "source": [
    "### Write the function `temperature_coefficient_plot()`\n",
    "`temperature_coefficient_plot()` will create visualizations that address the following question:\n",
    "\n",
    "    How does the average yearly change in temperature vary within a given country?\n",
    "\n",
    "This function accepts six explicit arguments, and an undetermined number of keyword arguments.\n",
    "\n",
    " - `db_file`, `country`, `year_begin`, `year_end`, and `month` should be as in the previous part.\n",
    " - `min_obs`, the minimum required number of years of data for any given station. Only data for stations with at least `min_obs` years worth of data in the specified month should be plotted; the others should be filtered out. `df.transform()` plus filtering is a good way to achieve this task.\n",
    " - `**kwargs`, additional keyword arguments passed to `px.scatter_mapbox()`. These can be used to control the colormap used, the mapbox style, etc.\n",
    " \n",
    "The output of this function should be an interactive geographic scatterplot, constructed using Plotly Express, with a point for each station, such that the color of the point reflects an estimate of the yearly change in temperature during the specified month and time period at that station. A reasonable way to do this is to compute the first coefficient of a linear regression model at that station, as illustrated in the lecture where we used the `.apply()` method."
   ]
  },
  {
   "cell_type": "code",
   "execution_count": 16,
   "id": "20c7ee61",
   "metadata": {},
   "outputs": [],
   "source": [
    "def temperature_coefficient_plot(db_file, country, year_begin, year_end, month, \n",
    "                                 min_obs, **kwargs):\n",
    "    \"\"\"\n",
    "    Generates an interactive scatterplot map showing the yearly change in temperature \n",
    "    for each station within a given country, filtered by the number of observations.\n",
    "\n",
    "    Parameters:\n",
    "    - db_file (str): Path to the database file.\n",
    "    - country (str): Name of the country for which the data is queried.\n",
    "    - year_begin (int): The starting year for the query.\n",
    "    - year_end (int): The ending year for the query.\n",
    "    - month (int): The month for which the data is queried.\n",
    "    - min_obs (int): Minimum number of years of data required for a station to be included.\n",
    "    - **kwargs: Additional keyword arguments passed to px.scatter_mapbox().\n",
    "\n",
    "    Returns:\n",
    "    - plotly.graph_objs._figure.Figure: An interactive map visualization created with Plotly Express.\n",
    "    \"\"\"\n",
    "    # grab the dataframe\n",
    "    df = query_climate_database(db_file, country, year_begin, year_end, month) \n",
    "    \n",
    "    # count the number of yrs worth of data each station has \n",
    "    df[\"Obs\"] = df.groupby([\"NAME\", \"Month\"])[\"Year\"].transform('count') \n",
    "    \n",
    "    # find the coefficients for estimates of yearly temp change\n",
    "    coefs = df.groupby([\"NAME\",\"Month\"]).apply(coef)\n",
    "    coefs = coefs.reset_index()\n",
    "    coefs[0] = coefs[0].round(4) # round the coefficients to 4 decimal places\n",
    "    coefs = coefs.rename(columns={0:\"Yearly Temp Change (°C)\"})\n",
    "    coefs = coefs.drop(\"Month\", axis=1) # we don't need this col so we drop it \n",
    "    \n",
    "    # left join with df to form one singular table\n",
    "    df = df.merge(coefs, on='NAME', how= 'left') \n",
    "    # filter out the stations with < min_obs yrs of data\n",
    "    df = df[df[\"Obs\"] >= min_obs] \n",
    "    \n",
    "    # plot\n",
    "    fig = px.scatter_mapbox(df, lat=\"LATITUDE\", lon=\"LONGITUDE\" \n",
    "                            , color=\"Yearly Temp Change (°C)\"\n",
    "                            ,title = f\"Estimates of yearly increase in temperature in {calendar.month_name[month]} <br>for stations in {country}, years {year_begin}-{year_end}\"\n",
    "                            , hover_name= \"NAME\" # show station each point when we hover\n",
    "                            , color_continuous_midpoint=0 # set colobar midpoint to 0\n",
    "                            , **kwargs)\n",
    "    \n",
    "    return fig"
   ]
  },
  {
   "cell_type": "code",
   "execution_count": 17,
   "id": "9a4a2c1b",
   "metadata": {},
   "outputs": [
    {
     "data": {
      "text/html": [
       "<iframe\n",
       "    scrolling=\"no\"\n",
       "    width=\"100%\"\n",
       "    height=\"545px\"\n",
       "    src=\"iframe_figures/figure_17.html\"\n",
       "    frameborder=\"0\"\n",
       "    allowfullscreen\n",
       "></iframe>\n"
      ]
     },
     "metadata": {},
     "output_type": "display_data"
    }
   ],
   "source": [
    "color_map = px.colors.diverging.RdGy_r # choose a colormap\n",
    "\n",
    "fig = temperature_coefficient_plot(\"temps.db\", \"India\", 1980, 2020, 1, \n",
    "                                   min_obs = 10,\n",
    "                                   zoom = 2,\n",
    "                                   mapbox_style=\"carto-positron\",\n",
    "                                   color_continuous_scale=color_map)\n",
    "\n",
    "fig.show()\n",
    "#figure_file = 'fig.html'\n",
    "#pio.write_html(fig, file=figure_file)"
   ]
  },
  {
   "cell_type": "code",
   "execution_count": 18,
   "id": "31381edd",
   "metadata": {},
   "outputs": [
    {
     "data": {
      "text/html": [
       "<iframe\n",
       "    scrolling=\"no\"\n",
       "    width=\"100%\"\n",
       "    height=\"545px\"\n",
       "    src=\"iframe_figures/figure_18.html\"\n",
       "    frameborder=\"0\"\n",
       "    allowfullscreen\n",
       "></iframe>\n"
      ]
     },
     "metadata": {},
     "output_type": "display_data"
    }
   ],
   "source": [
    "color_map = px.colors.diverging.Tealrose # choose a colormap\n",
    "\n",
    "fig1 = temperature_coefficient_plot(\"temps.db\", \"Germany\", 1992, 2016, 1, \n",
    "                                   min_obs = 10,\n",
    "                                   zoom = 3,\n",
    "                                   mapbox_style=\"carto-positron\",\n",
    "                                   color_continuous_scale=color_map)\n",
    "\n",
    "fig1.show()\n",
    "figure_file = 'fig1.html'\n",
    "pio.write_html(fig1, file=figure_file)"
   ]
  },
  {
   "cell_type": "markdown",
   "id": "403cd9f2",
   "metadata": {},
   "source": [
    "## 4. Create Two More Interesting Figures"
   ]
  },
  {
   "cell_type": "markdown",
   "id": "b1dd4521",
   "metadata": {},
   "source": [
    "### First Visualization\n",
    "    Does the average temperature for a given country follow the general trend of its \n",
    "    hemisphere?\n",
    "    \n",
    "    \n",
    "`country_to_hemisphere_plot` gets 4 inputs:\n",
    "\n",
    " - `db_file`: the file name for the database\n",
    " - `country`: a string giving the name of a country for which data should be returned.\n",
    " - `year_begin` and `year_end`: two integers giving the earliest and latest years for which should be returned.\n",
    "\n",
    "The output should be a barplot grouped by year that shows the given country's average temperature over thoughout the year. It should also be overlayed by a line plot that shows each year's average temperature of the hemisphere the country is located in to see if the country's average temperatures follows the pattern/trend of the average temperature of its hemisphere."
   ]
  },
  {
   "cell_type": "code",
   "execution_count": 19,
   "id": "88dcb1d5",
   "metadata": {
    "scrolled": true
   },
   "outputs": [
    {
     "name": "stdout",
     "output_type": "stream",
     "text": [
      "def seasons_database(db_file, country, year_begin, year_end):\n",
      "    \"\"\"\n",
      "    Retrieves temperature readings classified by hemisphere and seasons for a specified country and date range.\n",
      "\n",
      "    Parameters:\n",
      "    - db_file (str): Path to the SQLite database file.\n",
      "    - country (str): Country name to filter the temperature readings.\n",
      "    - year_begin (int): Starting year for the range of readings.\n",
      "    - year_end (int): Ending year for the range of readings.\n",
      "\n",
      "    Returns:\n",
      "    - DataFrame: A pandas DataFrame containing the temperature readings along with additional columns \n",
      "      'Hemispheres' and 'Seasons' indicating the hemisphere (North or South) and the meteorological \n",
      "      season when the reading was taken.\n",
      "    \"\"\"\n",
      "\n",
      "    with sqlite3.connect(db_file) as conn:\n",
      "        cmd = \\\n",
      "        f\"\"\"\n",
      "        SELECT S.NAME, S.LATITUDE, S.LONGITUDE, C.NAME as Country, T.Year, T.Month, T.Temp, \n",
      "        CASE \n",
      "            WHEN S.LATITUDE > 0 THEN 'North'\n",
      "            ELSE 'South'\n",
      "        END AS Hemispheres, \n",
      "        CASE \n",
      "            WHEN (S.LATITUDE > 0 AND (T.Month = 12 OR T.Month = 1 OR T.Month = 2)) THEN 'Winter'\n",
      "            WHEN (S.LATITUDE <= 0 AND T.Month >= 6 AND T.Month <= 8) THEN 'Winter'\n",
      "            WHEN (S.LATITUDE > 0 AND T.Month >= 3 AND T.Month <= 5) THEN 'Spring'\n",
      "            WHEN (S.LATITUDE <= 0 AND T.Month >= 9 AND T.Month <= 11) THEN 'Spring'\n",
      "            WHEN (S.LATITUDE > 0 AND T.Month >= 6 AND T.Month <= 8) THEN 'Summer'\n",
      "            WHEN (S.LATITUDE <= 0 AND (T.Month = 12 OR T.Month = 1 OR T.Month = 2)) THEN 'Summer'\n",
      "            ELSE 'Fall'\n",
      "        END AS Seasons \n",
      "        FROM temperatures T \n",
      "        LEFT JOIN stations S ON T.ID = S.ID \n",
      "        LEFT JOIN countries C ON SUBSTR(T.ID, 1, 2) = C.`FIPS 10-4`\n",
      "        WHERE T.Year >= {year_begin} \n",
      "            AND T.Year <= {year_end}\n",
      "            AND C.NAME = '{country}';\n",
      "        \"\"\"\n",
      "        df = pd.read_sql_query(cmd, conn)\n",
      "        df = df.drop_duplicates()\n",
      "    return df \n",
      "\n"
     ]
    }
   ],
   "source": [
    "from climate_database import seasons_database\n",
    "import plotly.graph_objs as go\n",
    "# Inspect the function\n",
    "print(inspect.getsource(seasons_database))"
   ]
  },
  {
   "cell_type": "code",
   "execution_count": 20,
   "id": "2c7e9d31",
   "metadata": {},
   "outputs": [],
   "source": [
    "def country_to_hemisphere_plot(db_file, country, year_begin, year_end):\n",
    "    \"\"\"\n",
    "    Creates a visualization comparing the average temperature of a specified country \n",
    "    to the average temperature of its hemisphere, grouped by month and year.\n",
    "\n",
    "    Parameters:\n",
    "    - db_file (str): Path to the SQLite database file containing temperature data.\n",
    "    - country (str): The name of the country for analysis.\n",
    "    - year_begin (int): The start year for the data analysis.\n",
    "    - year_end (int): The end year for the data analysis.\n",
    "\n",
    "    Returns:\n",
    "    - plotly.graph_objs._figure.Figure: A Plotly figure object that contains a line plot \n",
    "      for the hemisphere's average temperature and bar plots for the country's average \n",
    "      temperature for each month within the specified year range.\n",
    "    \"\"\"\n",
    "    df = seasons_database(db_file, country, year_begin, year_end) # grab the dataframe\n",
    "    # Add new columns 'Country Avg Temp' and 'Hemisphere Avg Temp'\n",
    "    df['Country Avg Temp'] = df.groupby([\"Country\", \"Year\", \"Month\"])[\"Temp\"].transform(np.mean)\n",
    "    df['Hemisphere Avg Temp'] = df.groupby(['Hemispheres', 'Year', 'Month'])['Temp'].transform(np.mean)\n",
    "    df['Country Avg Temp'] = df['Country Avg Temp'].round(4)\n",
    "    df['Hemisphere Avg Temp'] = df['Hemisphere Avg Temp'].round(4)\n",
    "    # Make sure that we don't have duplicate data for the given country\n",
    "    df = df[df['Country'] == country]\n",
    "    df = df.drop(['NAME', 'Temp', 'LATITUDE', 'LONGITUDE', 'Seasons'], axis=1)\n",
    "    df = df.sort_values(by=['Year', 'Month'])\n",
    "    df = df.drop_duplicates() \n",
    "\n",
    "    # Create a line plot for the hemisphere avg temperature with year as a category\n",
    "    fig = px.line(df, x='Month', y='Hemisphere Avg Temp', color='Year', \n",
    "                  title=f'Average Temperature for {country}', line_group='Year')\n",
    "    \n",
    "    color_palette = np.random.choice(px.colors.qualitative.Plotly, \n",
    "                                     year_end-year_begin+1, replace=False)\n",
    "    index = 0\n",
    "    for year in range(year_begin, year_end+1):\n",
    "        # Add a bar plot for the country's average temperature\n",
    "        year_data = df[df['Year'] == year]\n",
    "        fig.add_trace(go.Bar(x=year_data['Month'], y=year_data['Country Avg Temp'], \n",
    "                             name=f'{country} Avg Temp {year}', \n",
    "                             marker=dict(color=color_palette[index])\n",
    "                            , hovertemplate='Avg Temp= %{y:.4f}<br>Year= %{customdata}<br>Month= %{x}',\n",
    "                            customdata=[year] * len(year_data)))\n",
    "        index +=1\n",
    "    fig.update_layout(barmode='group', xaxis_title='Month'\n",
    "                      , yaxis_title='Temperature (°C)', legend_title='Legend')\n",
    "\n",
    "    return fig\n",
    "    "
   ]
  },
  {
   "cell_type": "code",
   "execution_count": 21,
   "id": "3e607bd3",
   "metadata": {
    "scrolled": true
   },
   "outputs": [
    {
     "data": {
      "text/html": [
       "<iframe\n",
       "    scrolling=\"no\"\n",
       "    width=\"100%\"\n",
       "    height=\"545px\"\n",
       "    src=\"iframe_figures/figure_21.html\"\n",
       "    frameborder=\"0\"\n",
       "    allowfullscreen\n",
       "></iframe>\n"
      ]
     },
     "metadata": {},
     "output_type": "display_data"
    }
   ],
   "source": [
    "fig2 = country_to_hemisphere_plot(\"temps.db\", 'India', 2016, 2018)\n",
    "fig2.show()\n",
    "figure_file = 'fig2.html'\n",
    "pio.write_html(fig2, file=figure_file)"
   ]
  },
  {
   "cell_type": "markdown",
   "id": "ab42736e",
   "metadata": {},
   "source": [
    "### Second Visualization\n",
    "    Has there been significant seasonal temperature change over the years for a given \n",
    "    country?\n",
    "\n",
    "`season_plot` gets 4 inputs: \n",
    "\n",
    " - `db_file`: the file name for the database\n",
    " - `country`: a string giving the name of a country for which data should be returned.\n",
    " - `year_begin` and `year_end`: two integers giving the earliest and latest years for which should be returned.\n",
    "\n",
    "The output should be a line plot that shows how the temperature of the country changes throughout the years for all 4 seasons (one line for each season). You should also be able to see the season, slope, and p-value of each line as you hover above it. "
   ]
  },
  {
   "cell_type": "code",
   "execution_count": 22,
   "id": "e92b9153",
   "metadata": {},
   "outputs": [],
   "source": [
    "import statsmodels.api as sm\n",
    "from plotly.subplots import make_subplots\n",
    "\n",
    "def season_plot(db_file, country, year_begin, year_end):\n",
    "    \"\"\"\n",
    "    Creates a multifaceted line plot of average seasonal temperatures.\n",
    "\n",
    "    For each season, a subplot is generated showing the trend of average temperatures over\n",
    "    the years with annotations for the linear regression slope and the p-value. The figure\n",
    "    consists of one subplot for each season, allowing for comparison across seasons within\n",
    "    the specified year range for the given country.\n",
    "\n",
    "    Parameters:\n",
    "    - db_file (str): Path to the SQLite database file containing temperature data.\n",
    "    - country (str): Country name for which the temperature data is to be analyzed.\n",
    "    - year_begin (int): The starting year for the analysis.\n",
    "    - year_end (int): The ending year for the analysis.\n",
    "\n",
    "    Returns:\n",
    "    - plotly.graph_objs._figure.Figure: A Plotly figure object with subplots for each season.\n",
    "    \"\"\"\n",
    "    df = seasons_database(db_file, country, year_begin, year_end)\n",
    "    df = df.groupby(['Year', 'Seasons'])['Temp'].mean().reset_index()\n",
    "    \n",
    "    seasons = df['Seasons'].unique()\n",
    "    fig = make_subplots(rows=2, cols=2, subplot_titles=seasons)\n",
    "    \n",
    "    row_col_pairs = [(i // 2 + 1, i % 2 + 1) for i in range(len(seasons))]\n",
    "    \n",
    "    for season, (row, col) in zip(seasons, row_col_pairs):\n",
    "        season_data = df[df['Seasons'] == season]\n",
    "        X = sm.add_constant(season_data['Year'])\n",
    "        model = sm.OLS(season_data['Temp'], X).fit()\n",
    "        \n",
    "        slope = model.params['Year']\n",
    "        p_value = model.pvalues['Year']\n",
    "        \n",
    "        hover_text = f\"Slope: {slope:.4f}<br>p-value: {p_value:.4g}\"\n",
    "        \n",
    "        fig.add_trace(go.Scatter(\n",
    "            x=season_data['Year'],\n",
    "            y=season_data['Temp'],\n",
    "            mode='lines+markers',\n",
    "            name=season,\n",
    "            text=hover_text, \n",
    "            hoverinfo='text+x+y'\n",
    "        ), row=row, col=col)\n",
    "    \n",
    "    fig.update_layout(\n",
    "        title=f'Seasonal Temperatures of {country}, years {year_begin} - {year_end}',\n",
    "        xaxis_title='Year',\n",
    "        yaxis_title='Temperature (°C)',\n",
    "        legend_title='Seasons',\n",
    "        height=800,\n",
    "        width=800\n",
    "    )\n",
    "    \n",
    "    # Update xaxis and yaxis properties if needed\n",
    "    fig.update_xaxes(title_text=\"Year\", row=row, col=col)\n",
    "    fig.update_yaxes(title_text=\"Temperature (°C)\", row=row, col=col)\n",
    "\n",
    "    return fig\n"
   ]
  },
  {
   "cell_type": "code",
   "execution_count": 23,
   "id": "00b7a507",
   "metadata": {},
   "outputs": [
    {
     "data": {
      "text/html": [
       "<iframe\n",
       "    scrolling=\"no\"\n",
       "    width=\"820px\"\n",
       "    height=\"820\"\n",
       "    src=\"iframe_figures/figure_23.html\"\n",
       "    frameborder=\"0\"\n",
       "    allowfullscreen\n",
       "></iframe>\n"
      ]
     },
     "metadata": {},
     "output_type": "display_data"
    }
   ],
   "source": [
    "fig4 = season_plot('temps.db', 'China', 1980, 2021)\n",
    "fig4.show()\n",
    "figure_file = 'fig4.html'\n",
    "pio.write_html(fig4, file=figure_file)"
   ]
  },
  {
   "cell_type": "markdown",
   "id": "e9ebec24",
   "metadata": {},
   "source": [
    "From this plot, we see that China has been getting warmer over the years for fall, spring, and summer. All 3 seasons have a positive slope with an extremely small p-value, indicating that this increase in temperature is significant. Though China's winters have a negative slope, it's p-value is relatively large at approximately 0.5, making this result insignificant."
   ]
  }
 ],
 "metadata": {
  "kernelspec": {
   "display_name": "Python 3 (ipykernel)",
   "language": "python",
   "name": "python3"
  },
  "language_info": {
   "codemirror_mode": {
    "name": "ipython",
    "version": 3
   },
   "file_extension": ".py",
   "mimetype": "text/x-python",
   "name": "python",
   "nbconvert_exporter": "python",
   "pygments_lexer": "ipython3",
   "version": "3.9.18"
  }
 },
 "nbformat": 4,
 "nbformat_minor": 5
}
