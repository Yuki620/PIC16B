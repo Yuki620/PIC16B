{
 "cells": [
  {
   "cell_type": "raw",
   "id": "257f7580",
   "metadata": {},
   "source": [
    "---\n",
    "title: \"Simple Message Web App\"\n",
    "author: \"Yuki Yu\"\n",
    "date: \"2024-02-05\"\n",
    "categories: [Web App, Python]\n",
    "---"
   ]
  },
  {
   "cell_type": "markdown",
   "id": "9d0660d0",
   "metadata": {},
   "source": [
    "## Simple Message Web App"
   ]
  },
  {
   "cell_type": "markdown",
   "id": "7da26f7e",
   "metadata": {},
   "source": [
    "### GitHub Repo URL: https://github.com/Yuki620/pic16b_hw3/tree/master/HW3"
   ]
  },
  {
   "cell_type": "markdown",
   "id": "4299f65e",
   "metadata": {},
   "source": [
    "## 1. Enable Submissions\n",
    "First, create a submit template with three user interface elements:\n",
    "\n",
    "1) A text box for submitting a message. <br>\n",
    "2) A text box for submitting the name of the user. <br>\n",
    "3) A “submit” button. <br>\n",
    "\n",
    "You may find it helpful to put navigation links (the top two links at the top of the screen) inside a template called base.html, then have the submit.html template extend base.html. You can find an example from our lecture. "
   ]
  },
  {
   "cell_type": "markdown",
   "id": "e7ea9df0",
   "metadata": {},
   "source": [
    "### `base.html`\n",
    "We construct the `base.html` template so that we do not need to write the code for the web app title and the 2 navigation links for submitting and viewing messages every single time. <br>\n",
    "We use the css sheet `style.css` that we wrote for styling. "
   ]
  },
  {
   "cell_type": "code",
   "execution_count": null,
   "id": "5d579c72",
   "metadata": {},
   "outputs": [],
   "source": [
    "<!DOCTYPE html>\n",
    "<html>\n",
    "    <head>\n",
    "        <link rel=\"stylesheet\" href=\"{{ url_for('static', filename='style.css') }}\">\n",
    "    </head>\n",
    "    <body>\n",
    "        <nav>\n",
    "            <h1>A Simple Message Bank</h1>\n",
    "            <!-- Navigation Links -->\n",
    "            <ul>\n",
    "                <li>\n",
    "                    <a href=\"{{ url_for('submit') }}\">Submit a message</a>\n",
    "                </li>\n",
    "                <li>\n",
    "                    <a href=\"{{ url_for('view') }}\">View messages</a>\n",
    "                </li>\n",
    "            </ul>\n",
    "        </nav>\n",
    "        <section class=\"content\">\n",
    "            <header>{% block header %}{% endblock %}</header>\n",
    "        </section>\n",
    "        {% block content %}{% endblock %}\n",
    "    </body>\n",
    "</html>"
   ]
  },
  {
   "cell_type": "markdown",
   "id": "7a2a3949",
   "metadata": {},
   "source": [
    "### `submit.html`\n",
    "Our `submit.html` is a child template of `base.html`, and it gives us the page for submitting messages. <br>\n",
    "There is an input text box for the message, and another one for the handle/name. <br>\n",
    "On the bottom, there is a submission button. "
   ]
  },
  {
   "cell_type": "code",
   "execution_count": null,
   "id": "2f46f702",
   "metadata": {},
   "outputs": [],
   "source": [
    "<!DOCTYPE html>\n",
    "<html>\n",
    "    <body>\n",
    "        {% extends 'base.html' %}{% block header %}\n",
    "        <h1>{% block title %}Submit{% endblock %}</h1>\n",
    "        {% endblock %}{% block content %}\n",
    "        <form method=\"post\">\n",
    "            <label for=\"message\">Your message:</label>\n",
    "            <br>\n",
    "            <input type=\"text\" name=\"message\" id=\"message\">\n",
    "            <br>\n",
    "            <label for=\"name\">Your name or handle:</label>\n",
    "            <br>\n",
    "            <input type=\"text\" name=\"handle\" id=\"handle\">\n",
    "            <br>\n",
    "            <input type=\"submit\" value=\"Submit message\">\n",
    "        </form>\n",
    "        {% endblock %}\n",
    "    </body>\n",
    "</html>"
   ]
  },
  {
   "cell_type": "markdown",
   "id": "2791d7a2",
   "metadata": {},
   "source": [
    "### Write the function `get_message_db()`\n",
    "`get_message_db()` should handle creating the database of messages.\n",
    "\n",
    "1) Check whether there is a database called `message_db` in the `g` attribute of the app. If not, then connect to that database, ensuring that the connection is an attribute of `g`. To do this last step, write a line like do `g.message_db = sqlite3.connect(\"messages_db.sqlite\")` <br>\n",
    "2) Check whether a table called messages exists in `message_db`, and create it if not. For this purpose, the SQL command `CREATE TABLE IF NOT EXISTS` is helpful. Give the table a `handle` column (text), and a `message` column (text). <br>\n",
    "3) Return the connection `g.message_db.`"
   ]
  },
  {
   "cell_type": "code",
   "execution_count": 1,
   "id": "de634b91",
   "metadata": {},
   "outputs": [],
   "source": [
    "def get_message_db():\n",
    "  # see if message_db exists already\n",
    "  try:\n",
    "      return g.message_db\n",
    "  # if not then create it\n",
    "  except:\n",
    "      g.message_db = sqlite3.connect(\"messages_db.sqlite\")\n",
    "      cmd = '''\n",
    "            CREATE TABLE IF NOT EXISTS messages (\n",
    "                handle text,\n",
    "                message text\n",
    "            )\n",
    "            ''' \n",
    "      cursor = g.message_db.cursor()\n",
    "      cursor.execute(cmd)\n",
    "      return g.message_db"
   ]
  },
  {
   "cell_type": "markdown",
   "id": "c621ceb4",
   "metadata": {},
   "source": [
    "### Write the function `insert_message(request)`\n",
    "`insert_message(request)` should handle inserting a user message into the database of messages.\n",
    "\n",
    "1) Extract the message and the handle from request. You’ll need to ensure that your submit.html template creates these fields from user input by appropriately specifying the name of the input elements. For example:"
   ]
  },
  {
   "cell_type": "code",
   "execution_count": null,
   "id": "4125a28f",
   "metadata": {},
   "outputs": [],
   "source": [
    "<input type=\"text\" name=\"message\" id=\"message\">"
   ]
  },
  {
   "cell_type": "markdown",
   "id": "f6c516b5",
   "metadata": {},
   "source": [
    "is what I used in my template to ensure that `request.form[\"message\"]` contained the message input by the user. You should then return the message and the handle.\n",
    "\n",
    "Using a cursor, insert the message into the message database. Remember that you’ll need to provide the handle and the message itself. You’ll need to write a SQL command to perform the insertion.\n",
    "\n",
    "**Note:** when working directly with SQL commands, it is necessary to run `db.commit()` after inserting a row into db in order to ensure that your row insertion has been saved. Also, don't forget to close the database connection!"
   ]
  },
  {
   "cell_type": "code",
   "execution_count": 3,
   "id": "6fa818b4",
   "metadata": {},
   "outputs": [],
   "source": [
    "def insert_message(request):\n",
    "    # Extract message and handle from the form data\n",
    "    msg = request.form[\"message\"]\n",
    "    hdl = request.form[\"handle\"]\n",
    "\n",
    "    # Get the database connection\n",
    "    db = get_message_db()\n",
    "    cursor = db.cursor()\n",
    "\n",
    "    # insertion of handle and message values into `messages` table\n",
    "    # `?` for value placeholders\n",
    "    insert_sql = '''\n",
    "                 INSERT INTO messages (handle, message)\n",
    "                 VALUES (?, ?)\n",
    "                 '''\n",
    "    cursor.execute(insert_sql, (hdl, msg))\n",
    "\n",
    "    # commit the changes\n",
    "    db.commit()\n",
    "\n",
    "    # close the connection\n",
    "    cursor.close()\n",
    "    return \"Message submitted!\""
   ]
  },
  {
   "cell_type": "markdown",
   "id": "6127237f",
   "metadata": {},
   "source": [
    "### Write a function to `render_template()` the `submit.html` template. \n",
    "Since this page will both transmit and receive data, you should ensure that it supports both `POST` and `GET` methods, and give it appropriate behavior in each one. In the `GET` case, you can just render the `submit.html` template with no other parameters. In the `POST` case, you should call `insert_message()` (and then render the `submit.html` template). "
   ]
  },
  {
   "cell_type": "code",
   "execution_count": null,
   "id": "262d606f",
   "metadata": {},
   "outputs": [],
   "source": [
    "@app.route('/', methods=['POST', 'GET'])\n",
    "def submit():\n",
    "    # GET is to request data from a specified resource\n",
    "    if request.method=='GET':\n",
    "        return render_template('submit.html')\n",
    "    # POST is to send data to the server\n",
    "    else:\n",
    "        msg_status = insert_message(request)\n",
    "        return render_template('submit.html', msg_status=msg_status)"
   ]
  },
  {
   "cell_type": "markdown",
   "id": "5f95b0d8",
   "metadata": {},
   "source": [
    "## 2. Viewing Random Submissions"
   ]
  },
  {
   "cell_type": "markdown",
   "id": "a5bf2544",
   "metadata": {},
   "source": [
    "### Write the function `random_messages(n)`\n",
    "`random_messages(n)` will return a collection of n random messages from the `message_db`, or fewer if necessary. Don’t forget to close the database connection within the function!"
   ]
  },
  {
   "cell_type": "code",
   "execution_count": 4,
   "id": "d8d9df49",
   "metadata": {},
   "outputs": [],
   "source": [
    "def random_messages(n):\n",
    "    # Connect to the database\n",
    "    db = get_message_db()\n",
    "    cursor = db.cursor()\n",
    "\n",
    "    # SQL query to select n random messages\n",
    "    cmd = '''\n",
    "          SELECT * FROM messages\n",
    "          ORDER BY RANDOM() LIMIT ?\n",
    "          '''\n",
    "    cursor.execute(cmd, (n,))\n",
    "    messages = cursor.fetchall()\n",
    "    # Close the connection\n",
    "    db.close()\n",
    "\n",
    "    return messages"
   ]
  },
  {
   "cell_type": "markdown",
   "id": "e6049880",
   "metadata": {},
   "source": [
    "### `view.html`\n",
    "Next, write a new template called `view.html` to display the messages extracted from `random_messages(n)`.\n",
    "This page will display `n` randomly chosen submitted messages and the corresponding handles/names. "
   ]
  },
  {
   "cell_type": "code",
   "execution_count": null,
   "id": "b78ee82a",
   "metadata": {},
   "outputs": [],
   "source": [
    "<!DOCTYPE html>\n",
    "<html>\n",
    "    <body>\n",
    "        {% extends 'base.html' %}{% block header %}\n",
    "        <h1>{% block title %}Some Cool Messages{% endblock %}</h1>\n",
    "        {% endblock %}{% block content %}\n",
    "        <ul>\n",
    "            {% for m in messages %}\n",
    "            <li>{{m[1]}} <br> - <em>{{m[0]}}</em></li>\n",
    "            {% endfor %}\n",
    "        </ul>\n",
    "        {% endblock %}\n",
    "    </body>\n",
    "</html>"
   ]
  },
  {
   "cell_type": "markdown",
   "id": "9b4232ec",
   "metadata": {},
   "source": [
    "### Write a function to render `view.html`\n",
    "This function should first call `random_messages(n)` to grab some random messages (I chose a cap of 5), and then pass these messages as an argument to `render_template()`."
   ]
  },
  {
   "cell_type": "code",
   "execution_count": null,
   "id": "9c86ff8d",
   "metadata": {},
   "outputs": [],
   "source": [
    "@app.route('/view/')\n",
    "def view():\n",
    "    # get the messages and display on view\n",
    "    messages = random_messages(5)\n",
    "    return render_template('view.html', messages=messages)"
   ]
  },
  {
   "cell_type": "markdown",
   "id": "27362538",
   "metadata": {},
   "source": [
    "## 3. `style.css`\n",
    "Be creative and style your web app however you wish!"
   ]
  },
  {
   "cell_type": "markdown",
   "id": "3688fa95",
   "metadata": {},
   "source": [
    "## 4. Demonstration"
   ]
  },
  {
   "cell_type": "markdown",
   "id": "17aa011e",
   "metadata": {},
   "source": [
    "Figure 1 is an example of me submitting a message. In the handle field is my name."
   ]
  },
  {
   "cell_type": "markdown",
   "id": "334dd7ee",
   "metadata": {},
   "source": [
    "<img src=\"screencap1.png\" width=\"500\" height=\"auto\">\n",
    "\n",
    "Figure 1."
   ]
  },
  {
   "cell_type": "markdown",
   "id": "9d5dadfc",
   "metadata": {},
   "source": [
    "In Figure 2, we see the 5 randomly chosen messages, with the second message as the submitted sample message shown in Figure 1. "
   ]
  },
  {
   "cell_type": "markdown",
   "id": "2f537ee4",
   "metadata": {},
   "source": [
    "<img src=\"screencap2.png\" width=\"500\" height=\"auto\">\n",
    "\n",
    "Figure 2."
   ]
  }
 ],
 "metadata": {
  "kernelspec": {
   "display_name": "Python 3 (ipykernel)",
   "language": "python",
   "name": "python3"
  },
  "language_info": {
   "codemirror_mode": {
    "name": "ipython",
    "version": 3
   },
   "file_extension": ".py",
   "mimetype": "text/x-python",
   "name": "python",
   "nbconvert_exporter": "python",
   "pygments_lexer": "ipython3",
   "version": "3.9.18"
  }
 },
 "nbformat": 4,
 "nbformat_minor": 5
}
